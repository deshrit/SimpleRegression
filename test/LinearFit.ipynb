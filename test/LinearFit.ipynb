{
  "cells" : [
    {
      "cell_type" : "markdown",
      "id" : "b1aa76d2-2143-49f9-9ef6-59f29f80a20e",
      "metadata" : {},
      "source" : ["## Libraries"]
    },
    {
      "cell_type" : "code",
      "execution_count" : null,
      "id" : "1670e87b-b07c-4d61-9dab-28a613b05d01",
      "metadata" : {},
      "outputs" : [],
      "source" : [
        "import numpy as np\n", "import matplotlib.pyplot as plt\n", "\n",
        "from sklearn import datasets\n",
        "from sklearn.linear_model import LinearRegression\n", "\n",
        "from sklearn.model_selection import train_test_split\n",
        "from sklearn.metrics import r2_score, mean_squared_error"
      ]
    },
    {
      "cell_type" : "markdown",
      "id" : "3d61a8a0-79d9-4c99-bd28-61996d3eaf66",
      "metadata" : {},
      "source" : ["## Dataset1"]
    },
    {
      "cell_type" : "code",
      "execution_count" : 91,
      "id" : "ffa48af8-65a2-4ac6-a600-e4fe99349bf3",
      "metadata" : {},
      "outputs" : [ {
        "data" : {
          "text/plain" : ["['age', 'sex', 'bmi', 'bp', 's1', 's2', 's3', 's4', "
                          "'s5', 's6']"]
        },
        "execution_count" : 91,
        "metadata" : {},
        "output_type" : "execute_result"
      } ],
      "source" : [ "d = datasets.load_diabetes()\n", "d.feature_names" ]
    },
    {
      "cell_type" : "code",
      "execution_count" : 92,
      "id" : "4cbb82ba-7035-4092-bdb1-7682e23f86fd",
      "metadata" : {},
      "outputs" : [],
      "source" :
          [ "X = d.data[:, -1].reshape(-1, 1)[:100]\n", "y = d.target[:100]" ]
    },
    {
      "cell_type" : "code",
      "execution_count" : 93,
      "id" : "af234201-7354-44c7-84c1-68ea33c1553c",
      "metadata" : {},
      "outputs" : [],
      "source" : ["X_train, X_test, y_train, y_test = train_test_split(X, y, "
                  "test_size=20, shuffle=False)"]
    },
    {
      "cell_type" : "code",
      "execution_count" : 94,
      "id" : "93eb0f3e-83fe-4928-b1ee-c36dfa71d187",
      "metadata" : {},
      "outputs" : [ {
        "data" : {
          "text/plain" : [
            "(array([-0.01764613, -0.09220405, -0.02593034, -0.00936191, "
            "-0.04664087,\n",
            "        -0.09634616, -0.03835666,  0.00306441,  0.01134862, "
            "-0.01350402,\n",
            "        -0.03421455, -0.05906719, -0.04249877, -0.01350402, "
            "-0.07563562,\n",
            "        -0.04249877,  0.02791705, -0.0010777 , -0.01764613, "
            "-0.05492509,\n",
            "         0.01549073, -0.01764613, -0.01350402,  0.13561183, "
            "-0.05492509,\n",
            "        -0.03421455, -0.0052198 ,  0.04034337, -0.05492509,  "
            "0.05276969,\n",
            "        -0.00936191, -0.04249877,  0.02791705,  0.00306441, "
            "-0.06735141,\n",
            "         0.01963284, -0.02593034, -0.0052198 ,  0.02377494,  "
            "0.00306441,\n",
            "         0.09419076, -0.00936191, -0.03421455,  0.07348023, "
            "-0.01764613,\n",
            "        -0.05078298, -0.08806194, -0.08391984, -0.02178823, "
            "-0.01350402,\n",
            "         0.00720652, -0.02178823, -0.01350402,  0.04862759,  "
            "0.00720652,\n",
            "         0.00720652, -0.01764613, -0.06735141, -0.05078298,  "
            "0.01963284,\n",
            "        -0.03421455,  0.01963284, -0.02593034, -0.07149352,  "
            "0.01134862,\n",
            "         0.01549073,  0.01963284,  0.00306441,  0.00306441,  "
            "0.01963284,\n",
            "         0.04034337,  0.06105391, -0.01764613, -0.00936191,  "
            "0.07348023,\n",
            "         0.02791705,  0.01549073, -0.0010777 , -0.08391984, "
            "-0.02593034]),\n",
            " array([151.,  75., 141., 206., 135.,  97., 138.,  63., 110., "
            "310., 101.,\n",
            "         69., 179., 185., 118., 171., 166., 144.,  97., 168.,  "
            "68.,  49.,\n",
            "         68., 245., 184., 202., 137.,  85., 131., 283., 129.,  "
            "59., 341.,\n",
            "         87.,  65., 102., 265., 276., 252.,  90., 100.,  55.,  "
            "61.,  92.,\n",
            "        259.,  53., 190., 142.,  75., 142., 155., 225.,  59., "
            "104., 182.,\n",
            "        128.,  52.,  37., 170., 170.,  61., 144.,  52., 128.,  "
            "71., 163.,\n",
            "        150.,  97., 160., 178.,  48., 270., 202., 111.,  85.,  "
            "42., 170.,\n",
            "        200., 252., 113.]),\n",
            " (80,))"
          ]
        },
        "execution_count" : 94,
        "metadata" : {},
        "output_type" : "execute_result"
      } ],
      "source" : ["X_train.flatten(), y_train, y_train.shape "]
    },
    {
      "cell_type" : "code",
      "execution_count" : 95,
      "id" : "7a33663b-8d2f-457a-b9fd-1cf6ea8b042e",
      "metadata" : {},
      "outputs" : [ {
        "data" : {
          "text/plain" : [
            "(array([-0.0052198 , -0.0010777 , -0.07977773, -0.04249877, "
            "-0.12948301,\n",
            "        -0.07149352, -0.03421455, -0.03835666,  0.06933812,  "
            "0.01963284,\n",
            "         0.01134862,  0.01963284,  0.01134862, -0.05492509, "
            "-0.09220405,\n",
            "        -0.0052198 ,  0.03205916,  0.07762233, -0.06735141, "
            "-0.05492509]),\n",
            " array([143.,  51.,  52., 210.,  65., 141.,  55., 134.,  42., "
            "111.,  98.,\n",
            "        164.,  48.,  96.,  90., 162., 150., 279.,  92.,  83.]),\n",
            " (20,))"
          ]
        },
        "execution_count" : 95,
        "metadata" : {},
        "output_type" : "execute_result"
      } ],
      "source" : ["X_test.flatten(), y_test, y_test.shape"]
    },
    {
      "cell_type" : "markdown",
      "id" : "f59bfe33-d26d-4164-8d92-327ac246673b",
      "metadata" : {},
      "source" : ["## Model"]
    },
    {
      "cell_type" : "code",
      "execution_count" : 96,
      "id" : "b6fdf48f-ea95-45eb-8aa8-15268aada94d",
      "metadata" : {},
      "outputs" : [ {
        "data" : {
          "text/html" : [
            "<style>#sk-container-id-4 {\n",
            "  /* Definition of color scheme common for light and dark mode "
            "*/\n",
            "  --sklearn-color-text: #000;\n",
            "  --sklearn-color-text-muted: #666;\n",
            "  --sklearn-color-line: gray;\n",
            "  /* Definition of color scheme for unfitted estimators */\n",
            "  --sklearn-color-unfitted-level-0: #fff5e6;\n",
            "  --sklearn-color-unfitted-level-1: #f6e4d2;\n",
            "  --sklearn-color-unfitted-level-2: #ffe0b3;\n",
            "  --sklearn-color-unfitted-level-3: chocolate;\n",
            "  /* Definition of color scheme for fitted estimators */\n",
            "  --sklearn-color-fitted-level-0: #f0f8ff;\n",
            "  --sklearn-color-fitted-level-1: #d4ebff;\n",
            "  --sklearn-color-fitted-level-2: #b3dbfd;\n",
            "  --sklearn-color-fitted-level-3: cornflowerblue;\n",
            "\n",
            "  /* Specific color for light theme */\n",
            "  --sklearn-color-text-on-default-background: "
            "var(--sg-text-color, var(--theme-code-foreground, "
            "var(--jp-content-font-color1, black)));\n",
            "  --sklearn-color-background: var(--sg-background-color, "
            "var(--theme-background, var(--jp-layout-color0, white)));\n",
            "  --sklearn-color-border-box: var(--sg-text-color, "
            "var(--theme-code-foreground, var(--jp-content-font-color1, "
            "black)));\n",
            "  --sklearn-color-icon: #696969;\n",
            "\n",
            "  @media (prefers-color-scheme: dark) {\n",
            "    /* Redefinition of color scheme for dark theme */\n",
            "    --sklearn-color-text-on-default-background: "
            "var(--sg-text-color, var(--theme-code-foreground, "
            "var(--jp-content-font-color1, white)));\n",
            "    --sklearn-color-background: var(--sg-background-color, "
            "var(--theme-background, var(--jp-layout-color0, #111)));\n",
            "    --sklearn-color-border-box: var(--sg-text-color, "
            "var(--theme-code-foreground, var(--jp-content-font-color1, "
            "white)));\n",
            "    --sklearn-color-icon: #878787;\n",
            "  }\n",
            "}\n",
            "\n",
            "#sk-container-id-4 {\n",
            "  color: var(--sklearn-color-text);\n",
            "}\n",
            "\n",
            "#sk-container-id-4 pre {\n",
            "  padding: 0;\n",
            "}\n",
            "\n",
            "#sk-container-id-4 input.sk-hidden--visually {\n",
            "  border: 0;\n",
            "  clip: rect(1px 1px 1px 1px);\n",
            "  clip: rect(1px, 1px, 1px, 1px);\n",
            "  height: 1px;\n",
            "  margin: -1px;\n",
            "  overflow: hidden;\n",
            "  padding: 0;\n",
            "  position: absolute;\n",
            "  width: 1px;\n",
            "}\n",
            "\n",
            "#sk-container-id-4 div.sk-dashed-wrapped {\n",
            "  border: 1px dashed var(--sklearn-color-line);\n",
            "  margin: 0 0.4em 0.5em 0.4em;\n",
            "  box-sizing: border-box;\n",
            "  padding-bottom: 0.4em;\n",
            "  background-color: var(--sklearn-color-background);\n",
            "}\n",
            "\n",
            "#sk-container-id-4 div.sk-container {\n",
            "  /* jupyter's `normalize.less` sets `[hidden] { display: none; "
            "}`\n",
            "     but bootstrap.min.css set `[hidden] { display: none "
            "!important; }`\n",
            "     so we also need the `!important` here to be able to override "
            "the\n",
            "     default hidden behavior on the sphinx rendered "
            "scikit-learn.org.\n",
            "     See: "
            "https://github.com/scikit-learn/scikit-learn/issues/21755 */\n",
            "  display: inline-block !important;\n",
            "  position: relative;\n",
            "}\n",
            "\n",
            "#sk-container-id-4 div.sk-text-repr-fallback {\n",
            "  display: none;\n",
            "}\n",
            "\n",
            "div.sk-parallel-item,\n",
            "div.sk-serial,\n",
            "div.sk-item {\n",
            "  /* draw centered vertical line to link estimators */\n",
            "  background-image: "
            "linear-gradient(var(--sklearn-color-text-on-default-background), "
            "var(--sklearn-color-text-on-default-background));\n",
            "  background-size: 2px 100%;\n",
            "  background-repeat: no-repeat;\n",
            "  background-position: center center;\n",
            "}\n",
            "\n",
            "/* Parallel-specific style estimator block */\n",
            "\n",
            "#sk-container-id-4 div.sk-parallel-item::after {\n",
            "  content: \"\";\n",
            "  width: 100%;\n",
            "  border-bottom: 2px solid "
            "var(--sklearn-color-text-on-default-background);\n",
            "  flex-grow: 1;\n",
            "}\n",
            "\n",
            "#sk-container-id-4 div.sk-parallel {\n",
            "  display: flex;\n",
            "  align-items: stretch;\n",
            "  justify-content: center;\n",
            "  background-color: var(--sklearn-color-background);\n",
            "  position: relative;\n",
            "}\n",
            "\n",
            "#sk-container-id-4 div.sk-parallel-item {\n",
            "  display: flex;\n",
            "  flex-direction: column;\n",
            "}\n",
            "\n",
            "#sk-container-id-4 div.sk-parallel-item:first-child::after {\n",
            "  align-self: flex-end;\n",
            "  width: 50%;\n",
            "}\n",
            "\n",
            "#sk-container-id-4 div.sk-parallel-item:last-child::after {\n",
            "  align-self: flex-start;\n",
            "  width: 50%;\n",
            "}\n",
            "\n",
            "#sk-container-id-4 div.sk-parallel-item:only-child::after {\n",
            "  width: 0;\n",
            "}\n",
            "\n",
            "/* Serial-specific style estimator block */\n",
            "\n",
            "#sk-container-id-4 div.sk-serial {\n",
            "  display: flex;\n",
            "  flex-direction: column;\n",
            "  align-items: center;\n",
            "  background-color: var(--sklearn-color-background);\n",
            "  padding-right: 1em;\n",
            "  padding-left: 1em;\n",
            "}\n",
            "\n",
            "\n",
            "/* Toggleable style: style used for "
            "estimator/Pipeline/ColumnTransformer box that is\n",
            "clickable and can be expanded/collapsed.\n",
            "- Pipeline and ColumnTransformer use this feature and define the "
            "default style\n",
            "- Estimators will overwrite some part of the style using the "
            "`sk-estimator` class\n",
            "*/\n",
            "\n",
            "/* Pipeline and ColumnTransformer style (default) */\n",
            "\n",
            "#sk-container-id-4 div.sk-toggleable {\n",
            "  /* Default theme specific background. It is overwritten whether "
            "we have a\n",
            "  specific estimator or a Pipeline/ColumnTransformer */\n",
            "  background-color: var(--sklearn-color-background);\n",
            "}\n",
            "\n",
            "/* Toggleable label */\n",
            "#sk-container-id-4 label.sk-toggleable__label {\n",
            "  cursor: pointer;\n",
            "  display: flex;\n",
            "  width: 100%;\n",
            "  margin-bottom: 0;\n",
            "  padding: 0.5em;\n",
            "  box-sizing: border-box;\n",
            "  text-align: center;\n",
            "  align-items: start;\n",
            "  justify-content: space-between;\n",
            "  gap: 0.5em;\n",
            "}\n",
            "\n",
            "#sk-container-id-4 label.sk-toggleable__label .caption {\n",
            "  font-size: 0.6rem;\n",
            "  font-weight: lighter;\n",
            "  color: var(--sklearn-color-text-muted);\n",
            "}\n",
            "\n",
            "#sk-container-id-4 label.sk-toggleable__label-arrow:before {\n",
            "  /* Arrow on the left of the label */\n",
            "  content: \"▸\";\n",
            "  float: left;\n",
            "  margin-right: 0.25em;\n",
            "  color: var(--sklearn-color-icon);\n",
            "}\n",
            "\n",
            "#sk-container-id-4 label.sk-toggleable__label-arrow:hover:before "
            "{\n",
            "  color: var(--sklearn-color-text);\n",
            "}\n",
            "\n",
            "/* Toggleable content - dropdown */\n",
            "\n",
            "#sk-container-id-4 div.sk-toggleable__content {\n",
            "  max-height: 0;\n",
            "  max-width: 0;\n",
            "  overflow: hidden;\n",
            "  text-align: left;\n",
            "  /* unfitted */\n",
            "  background-color: var(--sklearn-color-unfitted-level-0);\n",
            "}\n",
            "\n",
            "#sk-container-id-4 div.sk-toggleable__content.fitted {\n",
            "  /* fitted */\n",
            "  background-color: var(--sklearn-color-fitted-level-0);\n",
            "}\n",
            "\n",
            "#sk-container-id-4 div.sk-toggleable__content pre {\n",
            "  margin: 0.2em;\n",
            "  border-radius: 0.25em;\n",
            "  color: var(--sklearn-color-text);\n",
            "  /* unfitted */\n",
            "  background-color: var(--sklearn-color-unfitted-level-0);\n",
            "}\n",
            "\n",
            "#sk-container-id-4 div.sk-toggleable__content.fitted pre {\n",
            "  /* unfitted */\n",
            "  background-color: var(--sklearn-color-fitted-level-0);\n",
            "}\n",
            "\n",
            "#sk-container-id-4 "
            "input.sk-toggleable__control:checked~div.sk-toggleable__content "
            "{\n",
            "  /* Expand drop-down */\n",
            "  max-height: 200px;\n",
            "  max-width: 100%;\n",
            "  overflow: auto;\n",
            "}\n",
            "\n",
            "#sk-container-id-4 "
            "input.sk-toggleable__control:checked~label.sk-toggleable__label-"
            "arrow:before {\n",
            "  content: \"▾\";\n",
            "}\n",
            "\n",
            "/* Pipeline/ColumnTransformer-specific style */\n",
            "\n",
            "#sk-container-id-4 div.sk-label "
            "input.sk-toggleable__control:checked~label.sk-toggleable__label "
            "{\n",
            "  color: var(--sklearn-color-text);\n",
            "  background-color: var(--sklearn-color-unfitted-level-2);\n",
            "}\n",
            "\n",
            "#sk-container-id-4 div.sk-label.fitted "
            "input.sk-toggleable__control:checked~label.sk-toggleable__label "
            "{\n",
            "  background-color: var(--sklearn-color-fitted-level-2);\n",
            "}\n",
            "\n",
            "/* Estimator-specific style */\n",
            "\n",
            "/* Colorize estimator box */\n",
            "#sk-container-id-4 div.sk-estimator "
            "input.sk-toggleable__control:checked~label.sk-toggleable__label "
            "{\n",
            "  /* unfitted */\n",
            "  background-color: var(--sklearn-color-unfitted-level-2);\n",
            "}\n",
            "\n",
            "#sk-container-id-4 div.sk-estimator.fitted "
            "input.sk-toggleable__control:checked~label.sk-toggleable__label "
            "{\n",
            "  /* fitted */\n",
            "  background-color: var(--sklearn-color-fitted-level-2);\n",
            "}\n",
            "\n",
            "#sk-container-id-4 div.sk-label label.sk-toggleable__label,\n",
            "#sk-container-id-4 div.sk-label label {\n",
            "  /* The background is the default theme color */\n",
            "  color: var(--sklearn-color-text-on-default-background);\n",
            "}\n",
            "\n",
            "/* On hover, darken the color of the background */\n",
            "#sk-container-id-4 div.sk-label:hover label.sk-toggleable__label "
            "{\n",
            "  color: var(--sklearn-color-text);\n",
            "  background-color: var(--sklearn-color-unfitted-level-2);\n",
            "}\n",
            "\n",
            "/* Label box, darken color on hover, fitted */\n",
            "#sk-container-id-4 div.sk-label.fitted:hover "
            "label.sk-toggleable__label.fitted {\n",
            "  color: var(--sklearn-color-text);\n",
            "  background-color: var(--sklearn-color-fitted-level-2);\n",
            "}\n",
            "\n",
            "/* Estimator label */\n",
            "\n",
            "#sk-container-id-4 div.sk-label label {\n",
            "  font-family: monospace;\n",
            "  font-weight: bold;\n",
            "  display: inline-block;\n",
            "  line-height: 1.2em;\n",
            "}\n",
            "\n",
            "#sk-container-id-4 div.sk-label-container {\n",
            "  text-align: center;\n",
            "}\n",
            "\n",
            "/* Estimator-specific */\n",
            "#sk-container-id-4 div.sk-estimator {\n",
            "  font-family: monospace;\n",
            "  border: 1px dotted var(--sklearn-color-border-box);\n",
            "  border-radius: 0.25em;\n",
            "  box-sizing: border-box;\n",
            "  margin-bottom: 0.5em;\n",
            "  /* unfitted */\n",
            "  background-color: var(--sklearn-color-unfitted-level-0);\n",
            "}\n",
            "\n",
            "#sk-container-id-4 div.sk-estimator.fitted {\n",
            "  /* fitted */\n",
            "  background-color: var(--sklearn-color-fitted-level-0);\n",
            "}\n",
            "\n",
            "/* on hover */\n",
            "#sk-container-id-4 div.sk-estimator:hover {\n",
            "  /* unfitted */\n",
            "  background-color: var(--sklearn-color-unfitted-level-2);\n",
            "}\n",
            "\n",
            "#sk-container-id-4 div.sk-estimator.fitted:hover {\n",
            "  /* fitted */\n",
            "  background-color: var(--sklearn-color-fitted-level-2);\n",
            "}\n",
            "\n",
            "/* Specification for estimator info (e.g. \"i\" and \"?\") */\n",
            "\n",
            "/* Common style for \"i\" and \"?\" */\n",
            "\n",
            ".sk-estimator-doc-link,\n",
            "a:link.sk-estimator-doc-link,\n",
            "a:visited.sk-estimator-doc-link {\n",
            "  float: right;\n",
            "  font-size: smaller;\n",
            "  line-height: 1em;\n",
            "  font-family: monospace;\n",
            "  background-color: var(--sklearn-color-background);\n",
            "  border-radius: 1em;\n",
            "  height: 1em;\n",
            "  width: 1em;\n",
            "  text-decoration: none !important;\n",
            "  margin-left: 0.5em;\n",
            "  text-align: center;\n",
            "  /* unfitted */\n",
            "  border: var(--sklearn-color-unfitted-level-1) 1pt solid;\n",
            "  color: var(--sklearn-color-unfitted-level-1);\n",
            "}\n",
            "\n",
            ".sk-estimator-doc-link.fitted,\n",
            "a:link.sk-estimator-doc-link.fitted,\n",
            "a:visited.sk-estimator-doc-link.fitted {\n",
            "  /* fitted */\n",
            "  border: var(--sklearn-color-fitted-level-1) 1pt solid;\n",
            "  color: var(--sklearn-color-fitted-level-1);\n",
            "}\n",
            "\n",
            "/* On hover */\n",
            "div.sk-estimator:hover .sk-estimator-doc-link:hover,\n",
            ".sk-estimator-doc-link:hover,\n",
            "div.sk-label-container:hover .sk-estimator-doc-link:hover,\n",
            ".sk-estimator-doc-link:hover {\n",
            "  /* unfitted */\n",
            "  background-color: var(--sklearn-color-unfitted-level-3);\n",
            "  color: var(--sklearn-color-background);\n",
            "  text-decoration: none;\n",
            "}\n",
            "\n",
            "div.sk-estimator.fitted:hover "
            ".sk-estimator-doc-link.fitted:hover,\n",
            ".sk-estimator-doc-link.fitted:hover,\n",
            "div.sk-label-container:hover "
            ".sk-estimator-doc-link.fitted:hover,\n",
            ".sk-estimator-doc-link.fitted:hover {\n",
            "  /* fitted */\n",
            "  background-color: var(--sklearn-color-fitted-level-3);\n",
            "  color: var(--sklearn-color-background);\n",
            "  text-decoration: none;\n",
            "}\n",
            "\n",
            "/* Span, style for the box shown on hovering the info icon */\n",
            ".sk-estimator-doc-link span {\n",
            "  display: none;\n",
            "  z-index: 9999;\n",
            "  position: relative;\n",
            "  font-weight: normal;\n",
            "  right: .2ex;\n",
            "  padding: .5ex;\n",
            "  margin: .5ex;\n",
            "  width: min-content;\n",
            "  min-width: 20ex;\n",
            "  max-width: 50ex;\n",
            "  color: var(--sklearn-color-text);\n",
            "  box-shadow: 2pt 2pt 4pt #999;\n",
            "  /* unfitted */\n",
            "  background: var(--sklearn-color-unfitted-level-0);\n",
            "  border: .5pt solid var(--sklearn-color-unfitted-level-3);\n",
            "}\n",
            "\n",
            ".sk-estimator-doc-link.fitted span {\n",
            "  /* fitted */\n",
            "  background: var(--sklearn-color-fitted-level-0);\n",
            "  border: var(--sklearn-color-fitted-level-3);\n",
            "}\n",
            "\n",
            ".sk-estimator-doc-link:hover span {\n",
            "  display: block;\n",
            "}\n",
            "\n",
            "/* \"?\"-specific style due to the `<a>` HTML tag */\n",
            "\n",
            "#sk-container-id-4 a.estimator_doc_link {\n",
            "  float: right;\n",
            "  font-size: 1rem;\n",
            "  line-height: 1em;\n",
            "  font-family: monospace;\n",
            "  background-color: var(--sklearn-color-background);\n",
            "  border-radius: 1rem;\n",
            "  height: 1rem;\n",
            "  width: 1rem;\n",
            "  text-decoration: none;\n",
            "  /* unfitted */\n",
            "  color: var(--sklearn-color-unfitted-level-1);\n",
            "  border: var(--sklearn-color-unfitted-level-1) 1pt solid;\n",
            "}\n",
            "\n",
            "#sk-container-id-4 a.estimator_doc_link.fitted {\n",
            "  /* fitted */\n",
            "  border: var(--sklearn-color-fitted-level-1) 1pt solid;\n",
            "  color: var(--sklearn-color-fitted-level-1);\n",
            "}\n",
            "\n",
            "/* On hover */\n",
            "#sk-container-id-4 a.estimator_doc_link:hover {\n",
            "  /* unfitted */\n",
            "  background-color: var(--sklearn-color-unfitted-level-3);\n",
            "  color: var(--sklearn-color-background);\n",
            "  text-decoration: none;\n",
            "}\n",
            "\n",
            "#sk-container-id-4 a.estimator_doc_link.fitted:hover {\n",
            "  /* fitted */\n",
            "  background-color: var(--sklearn-color-fitted-level-3);\n",
            "}\n",
            "</style><div id=\"sk-container-id-4\" "
            "class=\"sk-top-container\"><div "
            "class=\"sk-text-repr-fallback\"><pre>LinearRegression()</"
            "pre><b>In a Jupyter environment, please rerun this cell to show "
            "the HTML representation or trust the notebook. <br />On GitHub, "
            "the HTML representation is unable to render, please try loading "
            "this page with nbviewer.org.</b></div><div class=\"sk-container\" "
            "hidden><div class=\"sk-item\"><div class=\"sk-estimator fitted "
            "sk-toggleable\"><input class=\"sk-toggleable__control "
            "sk-hidden--visually\" id=\"sk-estimator-id-4\" type=\"checkbox\" "
            "checked><label for=\"sk-estimator-id-4\" "
            "class=\"sk-toggleable__label fitted "
            "sk-toggleable__label-arrow\"><div><div>LinearRegression</div></"
            "div><div><a class=\"sk-estimator-doc-link fitted\" "
            "rel=\"noreferrer\" target=\"_blank\" "
            "href=\"https://scikit-learn.org/1.6/modules/generated/"
            "sklearn.linear_model.LinearRegression.html\">?<span>Documentation "
            "for LinearRegression</span></a><span "
            "class=\"sk-estimator-doc-link "
            "fitted\">i<span>Fitted</span></span></div></label><div "
            "class=\"sk-toggleable__content "
            "fitted\"><pre>LinearRegression()</pre></div> "
            "</div></div></div></div>"
          ],
          "text/plain" : ["LinearRegression()"]
        },
        "execution_count" : 96,
        "metadata" : {},
        "output_type" : "execute_result"
      } ],
      "source" : [ "m = LinearRegression()\n", "m.fit(X_train, y_train)" ]
    },
    {
      "cell_type" : "code",
      "execution_count" : 99,
      "id" : "90c3c69e-6a10-48f8-b6a7-f5d84f88ac34",
      "metadata" : {},
      "outputs" : [ {
        "data" : {
          "text/plain" :
              ["(array([230.03368388]), np.float64(141.04058158240912))"]
        },
        "execution_count" : 99,
        "metadata" : {},
        "output_type" : "execute_result"
      } ],
      "source" : ["m.coef_, m.intercept_"]
    },
    {
      "cell_type" : "markdown",
      "id" : "73851938-1238-4be4-8e8f-e805a2f8d889",
      "metadata" : {},
      "source" : ["## Predict"]
    },
    {
      "cell_type" : "code",
      "execution_count" : 100,
      "id" : "b3f988d4-3a91-4b7f-b21a-320995e7ee89",
      "metadata" : {},
      "outputs" : [ {
        "data" : {
          "text/plain" : [
            "array([139.83985074, 140.79267486, 122.68901672, 131.26443373,\n",
            "       111.25512736, 124.59466494, 133.17008196, 132.21725784,\n",
            "       156.99068477, 145.55679542, 143.65114719, 145.55679542,\n",
            "       143.65114719, 128.40596139, 119.83054438, 139.83985074,\n",
            "       148.41526776, 158.896333  , 125.54748905, 128.40596139])"
          ]
        },
        "execution_count" : 100,
        "metadata" : {},
        "output_type" : "execute_result"
      } ],
      "source" : [ "y_pred = m.predict(X_test)\n", "y_pred" ]
    },
    {
      "cell_type" : "markdown",
      "id" : "02f79f6a-eb6d-4888-a9ed-7d9b0a2a4450",
      "metadata" : {},
      "source" : ["## Evaluate"]
    },
    {
      "cell_type" : "code",
      "execution_count" : 101,
      "id" : "273fd329-beb8-4a25-bc63-7c82424b9d8d",
      "metadata" : {},
      "outputs" : [ {
        "data" : {"text/plain" : ["(3691.365868039987, -0.04948550683334374)"]},
        "execution_count" : 101,
        "metadata" : {},
        "output_type" : "execute_result"
      } ],
      "source" :
          ["mean_squared_error(y_test, y_pred), r2_score(y_test, y_pred)"]
    },
    {
      "cell_type" : "code",
      "execution_count" : null,
      "id" : "4f347198-c176-4d35-8462-d27337a9a2b0",
      "metadata" : {},
      "outputs" : [],
      "source" : []
    },
    {
      "cell_type" : "code",
      "execution_count" : null,
      "id" : "7d65d2d3-2277-4a10-a645-77ead9fa10db",
      "metadata" : {},
      "outputs" : [],
      "source" : []
    },
    {
      "cell_type" : "markdown",
      "id" : "56a970c9-94a7-47fb-b359-f816441a6f50",
      "metadata" : {},
      "source" : ["## Dataset2"]
    },
    {
      "cell_type" : "code",
      "execution_count" : 102,
      "id" : "edb7c159-feb4-4028-9dbc-1c52693f7308",
      "metadata" : {},
      "outputs" : [],
      "source" : [
        "np.random.seed(3)\n", "\n", "X = np.arange(-20, 20).reshape(-1, 1)\n",
        "y = 3 * x - 2\n", "y = y + np.random.uniform(-5, 5, size=x.shape)"
      ]
    },
    {
      "cell_type" : "code",
      "execution_count" : 103,
      "id" : "9540603f-999f-484f-9ad0-d583fd1de02f",
      "metadata" : {},
      "outputs" : [
        {
          "data" : {
            "text/plain" :
                ["<matplotlib.collections.PathCollection at 0x75dba131f650>"]
          },
          "execution_count" : 103,
          "metadata" : {},
          "output_type" : "execute_result"
        },
        {
          "data" : {
            "image/png" :
                "iVBORw0KGgoAAAANSUhEUgAAAioAAAGdCAYAAAA8F1jjAAAAOnRFWHRTb2Z0d2"
                "FyZQBNYXRwbG90bGliIHZlcnNpb24zLjEwLjEsIGh0dHBzOi8vbWF0cGxvdGxp"
                "Yi5vcmcvc2/"
                "+5QAAAAlwSFlzAAAPYQAAD2EBqD+naQAAL+tJREFUeJzt3X9w1PWdx/"
                "HXJpIsaLIQSLJBAgZ6xcaoSGww/"
                "hpFIHG8nJ6MY69ipcfgmEZ7Ctcq9UqMd4oFi62MgjoVO4dVz+"
                "l4XryakcOC0zMUj8hpTM0JFwvCbrAgu9GaBLLf+yO3K0s2ZL+7+"
                "9397u7zMbMz7Hc/2by/s8K+/"
                "Px0GIZhCAAAwIZyUl0AAADAaAgqAADAtggqAADAtggqAADAtggqAADAtggqAAD"
                "AtggqAADAtggqAADAts5IdQHxCgQCOnTokAoKCuRwOFJdDgAAiIJhGOrr69PUq"
                "VOVkzN6v0naB5VDhw6pvLw81WUAAIAYHDhwQNOmTRv19bQPKgUFBZKGb7SwsDD"
                "F1QAAgGj4/X6Vl5eHvsdHk/"
                "ZBJTjcU1hYSFABACDNjDVtg8m0AADAtggqAADAtggqAADAtggqAADAtggqAADA"
                "tggqAADAtggqAADAtggqAADAttJ+"
                "wzcAAJB4QwFDu3qO6nBfv0oKnKqpKFJuTvLP1COoAACAMG2dHrW0dsnj6w9dK3"
                "M51dxQqfqqsqTWwtAPAAAIaev0qHFLR1hIkSSvr1+"
                "NWzrU1ulJaj0EFQAAIGl4uKeltUtGhNeC11pauzQUiNTCGgQVAAAgSdrVc3RET"
                "8rJDEkeX7929RxNWk3MUQEAIEuMNUH2cN/"
                "oIeVk0bZLBIIKAABZIJoJsiUFzqjeK9p2icDQDwAAGS7aCbI1FUUqczk12iJkh"
                "4bDTU1FkbUFn4SgAgBAmhoKGGrfd0Sv7jmo9n1HIk5yNTNBNjfHoeaGSkkaEVa"
                "Cz5sbKpO6nwpDPwAApKFo9zoxM0G2dtZk1VeVaeOSuSPe252ifVQIKgAApJngU"
                "M6pvSTBoZyNS+"
                "aGAkUsE2Trq8q0sNLNzrQAAMCcsYZyHBoeyllY6VZujiPmCbK5OQ7Vzpocd73x"
                "Yo4KAABpxOxeJ3acIGsGQQUAgDRidijHjhNkzSCoAABgI2Ot5IllKCc4QdbtCv"
                "9Zt8sZNp/"
                "FjpijAgCATUSzkic4lOP19Uecp+"
                "LQcAA5dSjHThNkzaBHBQAAG4h2U7Z4hnKCE2Svn3O2amdNtn1IkQgqAACknNlT"
                "i9N5KMcshn4AAEgxs5uySek7lGMWQQUAgBSL9dRiu+"
                "x1YiWGfgAASDE7nlpsFwQVAABSLN03ZbMSQQUAgBRL903ZrERQAQDABrJpJY8Z"
                "TKYFAMAmsmUljxkEFQAAbCQbVvKYwdAPAACwLYIKAACwLYIKAACwLYIKAACwLY"
                "IKAACwLYIKAACwLYIKAACwLYIKAACwLYIKAACwLXamBQBkvaGAwbb1NkVQAQBk"
                "tbZOj1pau+Tx9Yeulbmcam6ozNqDAO0kaUM/"
                "jzzyiBwOh+6+++7Qtf7+"
                "fjU1NWny5Mk666yztHjxYvX29iarJABAlmvr9KhxS0dYSJEkr69fjVs61NbpSV"
                "FlCEpKUHnnnXf01FNP6YILLgi7fs8996i1tVUvv/"
                "yyduzYoUOHDunGG29MRkkAgCw3FDDU0tolI8JrwWstrV0aCkRqgWSxPKh8/"
                "vnnuuWWW/TMM89o0qRJoes+n0+/+MUvtH79es2fP1/"
                "V1dXavHmz3n77be3cudPqsgAAWW5Xz9ERPSknMyR5fP3a1XM0eUVhBMuDSlNTk"
                "6677jotWLAg7Pru3bt1/"
                "PjxsOvnnnuupk+frvb2dqvLAgBkucN9o4eUsdoNBQy17zuiV/"
                "ccVPu+I6ftdTHTFiNZOpn2xRdfVEdHh955550Rr3m9XuXl5WnixIlh10tLS+"
                "X1ekd9z4GBAQ0MDISe+/3+hNULAMgeJQXOmNqZmXzLRN34WdajcuDAAf3d3/"
                "2dnn/"
                "+eTmd0f3HEI01a9bI5XKFHuXl5Ql7bwBAZoimF6OmokhlLqdGW4Ts0HCoqKkoC"
                "l0zM/"
                "mWibqJYVlQ2b17tw4fPqy5c+"
                "fqjDPO0BlnnKEdO3bo8ccf1xlnnKHS0lINDg7q2LFjYT/"
                "X29srt9s96vuuWrVKPp8v9Dhw4IBVtwAASENtnR5d/pM39TfP7NTfvbhHf/"
                "PMTl3+kzdHBIPcHIeaGyolaURYCT5vbqgM7adiZvItE3UTx7Kgcs011+j999/"
                "Xnj17Qo+LL75Yt9xyS+jP48aN07Zt20I/"
                "093drf3796u2tnbU983Pz1dhYWHYAwAAyXwvRn1VmTYumSu3K7zn3+"
                "1yauOSuWHDM2Ym3zJRN3Esm6NSUFCgqqqqsGtnnnmmJk+eHLq+"
                "bNkyrVixQkVFRSosLNRdd92l2tpaXXLJJVaVBQDIUGP1Yjg03IuxsNIdtutsfV"
                "WZFla6x9yZNp7Jt4lom61SujPtY489ppycHC1evFgDAwOqq6vTk08+"
                "mcqSAABpykwvRu2syWGv5eY4Rlw7VayTbxPVNlslNahs37497LnT6dQTTzyhJ5"
                "54IpllAAAykBU9HicLTr71+voj9to4NDxkFJx8a6YtRsfpyQCAjGBFj8fJzEy+"
                "NTtRF6MjqAAAMkIsy43NMjP51kxbjM5hGEZar43y+/"
                "1yuVzy+XysAAKALBdc9SMpbMglGF4SFRCGAsaYk29jaZtNov3+"
                "JqgAADIKu8Gmh2i/"
                "v1O66gcAgESLdrkx0gNBBQCQcaJZboz0wGRaAABgWwQVAABgWwQVAABgWwQVAA"
                "BgW0ymBQCkhNn9RdiPJDsRVAAASWd2rxP2RsleDP0AAJIquHvsqScde339atzS"
                "obZOT1ztkVkIKgCApBkKGGpp7Yp4onDwWktrl4YCRkztkXkIKgCApNnVc3REz8"
                "jJDEkeX7929RyNqT0yD0EFAJA0h/"
                "tGDx2R2pltj8xDUAEAJE1JgdNUO7PtkXkIKgCApKmpKFKZy6nRFhU7NLyap6ai"
                "KKb2yDwEFQBA0uTmONTcUClJI8JH8HlzQ2VofxSz7ZF5CCoAgKSqryrTxiVz5X"
                "aFD9e4XU5tXDJ3xL4oZtsjszgMw0jrNV1+v18ul0s+n0+"
                "FhYWpLgcAspqZ3WPZmTa7Rfv9zc60AICEMLt7bG6OQ7WzJkf9/"
                "mbbIzMw9AMAiBu7x8IqBBUAQFzYPRZWIqgAAOLC7rGwEkEFABAXdo+"
                "FlQgqAIC4sHssrERQAQDEhd1jYSWCCgAgLuweCysRVAAAcWP3WFiFDd8AAAlRX"
                "1WmhZVudo9FQhFUAAAJw+"
                "6xSDSGfgAAgG0RVAAAgG0RVAAAgG0RVAAAgG0RVAAAgG0RVAAAgG0RVAAAgG0R"
                "VAAAgG0RVAAAgG0RVAAAgG0RVAAAgG0RVAAAgG0RVAAAgG1xejIAYFRDAUO7eo"
                "7qcF+/"
                "SgqcqqkoUm6OI9VlIYsQVAAAEbV1etTS2iWPrz90rczlVHNDpeqrylJYGbIJQz"
                "8AgBHaOj1q3NIRFlIkyevrV+"
                "OWDrV1elJUGbINQQUAEGYoYKiltUtGhNeC11pauzQUiNQCSCxLg8qaNWv0zW9+"
                "UwUFBSopKdENN9yg7u7usDb9/"
                "f1qamrS5MmTddZZZ2nx4sXq7e21siwAwGns6jk6oiflZIYkj69fu3qOJq8oZC1"
                "Lg8qOHTvU1NSknTt3auvWrTp+/"
                "LgWLVqkL774ItTmnnvuUWtrq15++"
                "WXt2LFDhw4d0o033mhlWQCA0zjcN3pIiaUdEA9LJ9O2tbWFPX/"
                "uuedUUlKi3bt368orr5TP59MvfvEL/"
                "epXv9L8+"
                "fMlSZs3b9Y3vvEN7dy5U5dccomV5QEAIigpcCa0HRCPpM5R8fl8kqSioiJJ0u7"
                "du3X8+HEtWLAg1Obcc8/"
                "V9OnT1d7eHvE9BgYG5Pf7wx4AgMSpqShSmcup0RYhOzS8+"
                "qemoiiZZSFLJS2oBAIB3X333brssstUVVUlSfJ6vcrLy9PEiRPD2paWlsrr9UZ"
                "8nzVr1sjlcoUe5eXlVpcOAFklN8eh5oZKSRoRVoLPmxsq2U8FSZG0oNLU1KTOz"
                "k69+"
                "OKLcb3PqlWr5PP5Qo8DBw4kqEIAQFB9VZk2Lpkrtyt8eMftcmrjkrnso4KkScq"
                "Gb3feeadee+"
                "01vfXWW5o2bVroutvt1uDgoI4dOxbWq9Lb2yu32x3xvfLz85Wfn291yQCQ9eqr"
                "yrSw0s3OtEgpS4OKYRi666679Morr2j79u2qqKgIe726ulrjxo3Ttm3btHjxYk"
                "lSd3e39u/fr9raWitLAwBEITfHodpZk1NdBrKYpUGlqalJv/rVr/"
                "Tqq6+qoKAgNO/E5XJp/"
                "PjxcrlcWrZsmVasWKGioiIVFhbqrrvuUm1tLSt+AACAHIZhWLa1oMMRuXtw8+"
                "bNWrp0qaThDd9WrlypF154QQMDA6qrq9OTTz456tDPqfx+v1wul3w+"
                "nwoLCxNVOgAAsFC039+"
                "WBpVkIKgAgDmciAw7iPb7m9OTAcCGrAoTnIiMdENQAQCbsSpMBE9EPrUbPXgiM"
                "suOYUecngwANhIME6ceChgME22dnpjelxORka4IKgBgE1aGCU5ERroiqACATVg"
                "ZJjgRGemKOSoAYBOxholoJt5yIjLSFUEFAGwiljAR7cTb4InIXl9/"
                "xKElh4bP8eFEZNgNQz8AYBPBMDHaImSHhkNIMEyYmXjLichIVwQVALAJM2Eilo"
                "m3nIiMdMTQDwDYSDBMnDqc4z5lOMfMxNuTDxXkRGSkG4IKANhMNGEinlU8nIiM"
                "dEJQAQAbGitMsIoH2YI5KgCQhsxOvAXSFUEFANIQq3iQLQgqAJCmWMWDbMAcFQ"
                "BIY6ziQaYjqABAEkSzzX2sWMWDTEZQAQCLRbvNPYCRmKMCABYys809gJEIKgBg"
                "kVi2uQcQjqACABYxs809gMgIKgBgkXi2uQcwjKACABZhm3sgfgQVALAI29wD8S"
                "OoAIBF2OYeiB9BBQAsxDb3QHzY8A0ALMY290DsCCoAkARscw/"
                "EhqEfAABgWwQVAABgWwQVAABgWwQVAABgWwQVAABgWwQVAABgWwQVAABgWwQVA"
                "ABgW2z4BgAxGAoY7DQLJAFBBQD+X7Tho63To5bWLnl8/"
                "aFrZS6nmhsqObsHSDCCCoCMZabXI9rw0dbpUeOWDhmn/LzX16/"
                "GLR0cNAgkGEEFQEYy0+"
                "sRbfgYChhqae0a0U6SDEkOSS2tXVpY6WYYCEgQJtMCyDjB4HFySJG+"
                "Ch5tnZ7QtbHChzQcPoK9M6e+56ntPb5+"
                "7eo5Gv9NAJBEUAGQYcwED0mmwsfhvtHbnSzadgDGRlABkFHM9nqYCR8lBc6o2k"
                "bbDsDYCCoAMorZXg8z4aOmokhlLqdGm33i0PA8mJqKoqjeE8DYCCoAMorZXg8z"
                "4SM3x6HmhsrQ9VPbSVJzQyUTaYEEIqgAyChmez3Mho/"
                "6qjJtXDJXbld4IHK7nCxNBizgMAwj0pyztOH3++VyueTz+"
                "VRYWJjqcgDYQHDVj6SwSbXB4BEpUJjdxI2daYH4RPv9TVABkJFi2T2W8AEkT1o"
                "FlSeeeELr1q2T1+vVhRdeqA0bNqimpiaqnyWoABgNwQOwr2i/"
                "v1O+M+1LL72kFStWaNOmTZo3b55+"
                "9rOfqa6uTt3d3SopKUl1eQDSWG6OQ7WzJqe6DABxSPlk2vXr12v58uX67ne/"
                "q8rKSm3atEkTJkzQs88+m+"
                "rSAABAiqU0qAwODmr37t1asGBB6FpOTo4WLFig9vb2iD8zMDAgv98f9gAAAJkp"
                "pUHlT3/6k4aGhlRaWhp2vbS0VF6vN+LPrFmzRi6XK/"
                "QoLy9PRqkAACAFUj70Y9aqVavk8/"
                "lCjwMHDqS6JAAAYJGUTqadMmWKcnNz1dvbG3a9t7dXbrc74s/k5+crPz8/"
                "GeUBAIAUS2mPSl5enqqrq7Vt27bQtUAgoG3btqm2tjaFlQEAADtI+"
                "fLkFStW6LbbbtPFF1+smpoa/exnP9MXX3yh7373u6kuDQAApFjKg8rNN9+sTz/"
                "9VKtXr5bX69WcOXPU1tY2YoItAADIPrbYmTYe7EwLAED6SZudaQHADLbFB7ILQ"
                "QVA2ojloEEA6S3t9lEBkJ3aOj1q3NIRFlIkyevrV+"
                "OWDrV1elJUGQArEVQA2N5QwFBLa5ciTagLXmtp7dJQIK2n3AGIgKACwPZ29Rwd"
                "0ZNyMkOSx9evXT1Hk1cUgKRgjgqAlIpmcuzhvtFDSiztAKQPggqAlIl2cmxJgT"
                "Oq94u2HYD0wdAPgJQwMzm2pqJIZS6nRluE7NBwwKmpKLKuYAApQVABkHRmJ8fm"
                "5jjU3FApSSPCSvB5c0Ml+6kAGYigAiDpYpkcW19Vpo1L5srtCh/"
                "ecbuc2rhkLvuoABmKOSoAki7WybH1VWVaWOlmZ1ogixBUACRdPJNjc3Mcqp01O"
                "dElAbAphn4AJB2TYwFEi6ACIOmYHAsgWgQVACnB5FgA0WCOCoCUYXIsgLEQVAC"
                "kFJNjAZwOQz8AAMC2CCoAAMC2GPoBMKZoTjiOpz0AjIagAuC0oj3hONb2AHA6D"
                "P0AGJWZE45jaQ8AYyGoAIjI7AnHZtsDQDQIKgAiMnvCcSwnIgPAWAgqACIye8J"
                "xrCciA8DpEFQARGT2hON4TkQGgNEQVABEZPaEY05EBmAFggqAiMyecMyJyACsQ"
                "FABMCqzJxxzIjKARHMYhpHWawX9fr9cLpd8Pp8KCwtTXQ6QkdiZFkCiRfv9zc6"
                "0AMZk9oRjTkQGkCgM/"
                "QAAANsiqAAAANsiqAAAANsiqAAAANtiMi2QIVhpAyATEVSADNDW6VFLa1fYoYB"
                "lLqeaGyrZuwRAWmPoB0hzbZ0eNW7pGHFysdfXr8YtHWrr9KSoMgCIH0EFSGNDA"
                "UMtrV2KtGtj8FpLa5eGAmm9ryOALEZQAdLYrp6jI3pSTmZI8vj6tavnaPKKAoA"
                "EIqgAaexw3+"
                "ghJZZ2AGA3BBUgjZUUOMduZKIdANgNq34Am4pmuXFNRZHKXE55ff0R56k4NHxy"
                "cU1FUVJqBoBEI6gANhTtcuPcHIeaGyrVuKVDDiksrAQjTXNDZcT9VNh3BUA6cB"
                "iGkdbLAaI9JhpIF8Hlxqf+xQxGiI1L5o7YG8XsPirsuwIg1aL9/"
                "iaoADYyFDB0+U/eHHUlT3Ao53f3zh/"
                "R+xFtD0ksQQgAEi3a72+"
                "GfgAbMbPcuHbW5LDXcnMcI66daqx9Vxwa3ndlYaWbYSAAtsCqH8BGrF5uzL4rA"
                "NKNZUHl448/"
                "1rJly1RRUaHx48dr1qxZam5u1uDgYFi79957T1dccYWcTqfKy8u1du1aq0oCbM"
                "/q5cbsuwIg3Vg29PPhhx8qEAjoqaee0te+9jV1dnZq+fLl+uKLL/"
                "Too49KGh6fWrRokRYsWKBNmzbp/fff19/"
                "+7d9q4sSJuv32260qDbAtq5cbs+"
                "8KgHRjWVCpr69XfX196PnMmTPV3d2tjRs3hoLK888/"
                "r8HBQT377LPKy8vTeeedpz179mj9+vUEFWSleJYbR4N9VwCkm6TOUfH5fCoq+"
                "uofwPb2dl155ZXKy8sLXaurq1N3d7c+++"
                "yziO8xMDAgv98f9gAySX1VmTYumSu3K7xXw+1yxr0iJxiEpK+"
                "CT1AighAAJFrSVv3s3btXGzZsCPWmSJLX61VFRUVYu9LS0tBrkyZNGvE+"
                "a9asUUtLi7XFAilWX1WmhZVuSzZkCwahU/"
                "dRcbOPCgAbMh1U7rvvPv3kJz85bZs//"
                "OEPOvfcc0PPDx48qPr6et10001avny5+SpPsmrVKq1YsSL03O/"
                "3q7y8PK73BOwomuXGsbIyCAFAIpkOKitXrtTSpUtP22bmzJmhPx86dEhXX321L"
                "r30Uj399NNh7dxut3p7e8OuBZ+73e6I752fn6/8/"
                "HyzZQM4hZVBCAASxXRQKS4uVnFxcVRtDx48qKuvvlrV1dXavHmzcnLCp8TU1tb"
                "q/vvv1/"
                "HjxzVu3DhJ0tatWzV79uyIwz4AACC7WDaZ9uDBg7rqqqs0ffp0Pfroo/r000/"
                "l9Xrl9XpDbb797W8rLy9Py5Yt0wcffKCXXnpJP//"
                "5z8OGdgAAQPaybDLt1q1btXfvXu3du1fTpk0Ley14vJDL5dIbb7yhpqYmVVdXa"
                "8qUKVq9ejVLkwEAgCQOJQQAACkQ7fc3Z/"
                "0AAADb4vRkIA5DAYMlvgBgIYIKEKO2Ts+"
                "ITdPK2DQNABKKoR8gBm2dHjVu6QgLKZLk9fWrcUuH2jo9EX9uKGCofd8Rvbrno"
                "Nr3HdFQIK2niAGA5ehRAUwaChhqae2KeKifoeEzc1pau7Sw0h02DEQPDACYR48"
                "KYNKunqMjelJOZkjy+Pq1q+do6FqsPTAAkO0IKoBJh/"
                "tGDymR2o3VAyMN98AwDAQAIxFUAJNKCpym2sXSAwMAGEZQAUyqqShSmcup0RYh"
                "OzQ896SmokiS+"
                "R4YAMBXCCqASbk5DjU3VErSiLASfN7cUBmaSGu2BwYA8BWCChCD+"
                "qoybVwyV25XeLhwu5zauGRu2Coesz0wAICvsDwZiFF9VZkWVrrH3Jk22APTuKV"
                "DDilsUm2kHhgAwFc4lBBIEvZRAYCvRPv9TY8KkCTR9sAAAL5CUAGSKDfHodpZk"
                "1NdBgCkDSbTAgAA26JHBTjFUMBgeAYAbIKgApyECa8AYC8M/QD/"
                "j4MDAcB+"
                "CCqAODgQAOyKoAKIgwMBwK4IKoA4OBAA7IqgAoiDAwHArggqgDg4EADsiqAC6K"
                "uDAyWNCCscHAgAqUNQAf5ffVWZNi6ZK7crfHjH7XJq45K57KMCACnAhm/"
                "ASTg4EADshaACnIKDAwHAPhj6AQAAtkVQAQAAtkVQAQAAtkVQAQAAtkVQAQAAt"
                "kVQAQAAtsXyZKSloYDBXicAkAUIKkg7bZ0etbR2yeP76iTjMpdTzQ2V7B4LABm"
                "GoR+klbZOjxq3dISFFEny+"
                "vrVuKVDbZ2eFFUGALACQQVpYyhgqKW1S0aE14LXWlq7NBQIbzEUMNS+"
                "74he3XNQ7fuOjHgdAGBfDP0gbezqOTqiJ+VkhiSPr1+"
                "7eo6GtsBnmAgA0hs9Kkgbh/"
                "tGDymR2jFMBADpj6CCtFFS4Iy6XazDRAAAeyGoIG3UVBSpzOXUaIuQHRoe1qmp"
                "KDI1TAQAsC+"
                "CCtJGbo5DzQ2VkjQirASfNzdUKjfHYXqYCABgTwQVpJX6qjJtXDJXblf4MJDb5"
                "dTGJXNDE2TNDBMBAOyLVT9IO/VVZVpY6T7tzrTBYSKvrz/"
                "iPBWHhsNNTUVR0uoGAJhHUEFays1xhJYgj/"
                "Z6c0OlGrd0yCGFhZVTh4kAAPbF0A8yVrTDRAAA+"
                "6JHBRktmmEiAIB9JaVHZWBgQHPmzJHD4dCePXvCXnvvvfd0xRVXyOl0qry8XGv"
                "Xrk1GScgiwWGi6+"
                "ecrdpZkwkpAJBGkhJUfvjDH2rq1Kkjrvv9fi1atEgzZszQ7t27tW7dOj3wwAN6"
                "+umnk1EWAACwOcuHfl5//"
                "XW98cYb+vWvf63XX3897LXnn39eg4ODevbZZ5WXl6fzzjtPe/"
                "bs0fr163X77bdbXRoAALA5S3tUent7tXz5cv3zP/"
                "+zJkyYMOL19vZ2XXnllcrLywtdq6urU3d3tz777LOI7zkwMCC/3x/"
                "2AAAAmcmyoGIYhpYuXao77rhDF198ccQ2Xq9XpaWlYdeCz71eb8SfWbNmjVwuV"
                "+hRXl6e2MIBAIBtmA4q9913nxwOx2kfH374oTZs2KC+"
                "vj6tWrUqoQWvWrVKPp8v9Dhw4EBC3x8AANiH6TkqK1eu1NKlS0/"
                "bZubMmXrzzTfV3t6u/"
                "Pz8sNcuvvhi3XLLLfrlL38pt9ut3t7esNeDz91ud8T3zs/PH/"
                "GeSH9DAYMlxACAEUwHleLiYhUXF4/Z7vHHH9c//dM/"
                "hZ4fOnRIdXV1eumllzRv3jxJUm1tre6//"
                "34dP35c48aNkyRt3bpVs2fP1qRJk8yWhjTV1ulRS2tX2GnHZS6nmhsq2ZQNALK"
                "cZXNUpk+frqqqqtDj61//uiRp1qxZmjZtmiTp29/"
                "+tvLy8rRs2TJ98MEHeumll/Tzn/"
                "9cK1assKosnGQoYKh93xG9uueg2vcd0VAg0qk41mrr9KhxS0dYSJEkr69fjVs6"
                "1NbpSXpNAAD7SOnOtC6XS2+"
                "88YaamppUXV2tKVOmaPXq1SxNTgI79GIMBQy1tHZFPDTQ0PCZPC2tXVpY6WYYC"
                "ACylMMwjOT/"
                "b3QC+f1+uVwu+Xw+FRYWprqctBDsxTj1gw9GgWSdg9O+74j+"
                "5pmdY7Z7Yfklpz2AEACQfqL9/"
                "uZQwiwzVi+GNNyLEe8wUDTDSof7+"
                "iP85EjRtgMAZB4OJcwyu3qOjpgPcjJDksfXr109R2PuxYh2WKmkwBnpx0eIth0"
                "AIPPQo5JlrO7FMDM5tqaiSGUup0abfeLQcMCpqSiKqRYAQPojqGQZK3sxzA4r5"
                "eY41NxQKUkjwkrweXNDJRNpASCLEVSyjJW9GGaGlYLqq8q0cclcuV3hwcjtciZ"
                "tUi8AwL6Yo5Jlgr0YjVs65JDCej/"
                "i7cWIdVipvqpMCyvd7EwLABiBoJJhotmKPtiLceqEV3ec+6jEM6yUm+"
                "NgCTIAYASCSgYxs4mbFb0YwWElr68/4jwVh4bDEJNjAQDRYo5KhohlK/"
                "pgL8b1c85W7azJcQ+"
                "1MDkWAJBoBJUMkKxN3KLB5FgAQCIx9JMBkrGJmxlMjgUAJApBJQMkayv6aCbqB"
                "jE5FgCQCASVDJCMrejtcNoyACD7MEclA1i9FX0sE3UBAEgEgkoGsHK1jZ0m6gI"
                "Asg9BJUNYtdomlm3xAQBIFOaoZBArVtska6IuAACREFQyTKJX2yRjoi4AAKNh6"
                "AenZfVEXQAAToeggtNiW3wAQCoRVDAmtsUHAKQKc1QQFbbFBwCkAkEFUWNbfAB"
                "AsjH0AwAAbIugAgAAbIugAgAAbIs5KjY3FDCYwAoAyFoEFRtr6/"
                "SopbUr7KydMpdTzQ2VLAkGAGQFhn5sqq3To8YtHSMOBPT6+"
                "tW4pUNtnZ4UVQYAQPIQVGxoKGCopbVLRoTXgtdaWrs0FIjUAgCAzEFQsaFdPUd"
                "H9KSczJDk8fVrV8/"
                "R5BUFAEAKEFRs6HDf6CEllnYAAKQrgooNlRQ4x25koh0AAOmKoGJDNRVFKnM5R"
                "5xWHOTQ8OqfmoqiZJYFAEDSEVRsKDfHoeaGSkkaEVaCz5sbKtlPBQCQ8QgqNlV"
                "fVaaNS+"
                "bK7Qof3nG7nNq4ZC77qAAAsgIbvtlYfVWZFla62ZkWAJC1CCo2l5vjUO2syaku"
                "AwCAlCCoJADn8QAAYA2CSpw4jwcAAOswmTYOnMcDAIC1CCoxiuc8nqGAofZ9R/"
                "TqnoNq33eEM3sAABgFQz8xMnMez8mTYRkqAgAgevSoxCiW83gYKgIAwByCSozM"
                "nscTz1ARAADZiqASI7Pn8ZgZKgIAAMMIKjEyex5PLENFAABkO4JKHMycx2N2qA"
                "gAAFgcVP793/9d8+bN0/jx4zVp0iTdcMMNYa/v379f1113nSZMmKCSkhL94Ac/"
                "0IkTJ6wsKeHqq8r0u3vn64Xll+jn35qjF5Zfot/dO3/ECh6zQ0UAAMDC5cm//"
                "vWvtXz5cj388MOaP3++Tpw4oc7OztDrQ0NDuu666+R2u/X222/L4/HoO9/"
                "5jsaNG6eHH37YqrIsEc15PMGhosYtHXJIYZNqIw0VAQAAyWEYRsKXmZw4cULnn"
                "HOOWlpatGzZsohtXn/9df3lX/6lDh06pNLSUknSpk2bdO+99+rTTz9VXl5eVL/"
                "L7/fL5XLJ5/"
                "OpsLAwYfdgFfZRAQAg+u9vS3pUOjo6dPDgQeXk5Oiiiy6S1+"
                "vVnDlztG7dOlVVVUmS2tvbdf7554dCiiTV1dWpsbFRH3zwgS666KKI7z0wMKCB"
                "gYHQc7/fb8UtWHbQYH1VmRZWujnEEACAKFgSVP73f/9XkvTAAw9o/fr1Ouecc/"
                "TTn/5UV111lf7nf/"
                "5HRUVF8nq9YSFFUui51+"
                "sd9b3XrFmjlpYWK8oOsbrXI5qhIgAAYHIy7X333SeHw3Hax4cffqhAICBJuv/"
                "++7V48WJVV1dr8+bNcjgcevnll+MqeNWqVfL5fKHHgQMH4nq/"
                "U7F7LAAA9mGqR2XlypVaunTpadvMnDlTHs/wl3llZWXoen5+vmbOnKn9+/"
                "dLktxut3bt2hX2s729vaHXRpOfn6/8/"
                "HwzZUdtrN1jHRrePXZhpZuhGgAAksBUUCkuLlZxcfGY7aqrq5Wfn6/"
                "u7m5dfvnlkqTjx4/r448/"
                "1owZMyRJtbW1euihh3T48GGVlJRIkrZu3arCwsKwgJNMsR40CAAArGHJHJXCwk"
                "Ldcccdam5uVnl5uWbMmKF169ZJkm666SZJ0qJFi1RZWalbb71Va9euldfr1T/"
                "8wz+"
                "oqanJsh6TsbB7LAAA9mLZPirr1q3TGWecoVtvvVVffvml5s2bpzfffFOTJk2SJ"
                "OXm5uq1115TY2OjamtrdeaZZ+q2227Tgw8+"
                "aFVJY2L3WAAA7MWSfVSSKZH7qAwFDF3+kzfl9fVHnKfi0PD2+L+"
                "7dz5zVAAAiEO039+c9XMSswcNAgAAaxFUTmHmoEEAAGAty+"
                "aopDN2jwUAwB4IKqNg91gAAFKPoR8AAGBbBBUAAGBbBBUAAGBbBBUAAGBbBBUA"
                "AGBbBBUAAGBbBBUAAGBbBBUAAGBbBBUAAGBbab8zbfDwZ7/"
                "fn+JKAABAtILf28Hv8dGkfVDp6+"
                "uTJJWXl6e4EgAAYFZfX59cLteorzuMsaKMzQUCAR06dEgFBQVyOBJ7aKDf71d5"
                "ebkOHDigwsLChL63XWTDPUrcZ6bhPjNHNtyjxH1GYhiG+"
                "vr6NHXqVOXkjD4TJe17VHJycjRt2jRLf0dhYWFG/"
                "4clZcc9StxnpuE+M0c23KPEfZ7qdD0pQUymBQAAtkVQAQAAtkVQOY38/"
                "Hw1NzcrPz8/"
                "1aVYJhvuUeI+Mw33mTmy4R4l7jMeaT+"
                "ZFgAAZC56VAAAgG0RVAAAgG0RVAAAgG0RVAAAgG0RVE7x8ccfa9myZaqoqND48"
                "eM1a9YsNTc3a3BwMKzde++"
                "9pyuuuEJOp1Pl5eVau3ZtiiqO3UMPPaRLL71UEyZM0MSJEyO2cTgcIx4vvvhic"
                "guNUzT3uX//fl133XWaMGGCSkpK9IMf/"
                "EAnTpxIbqEJds4554z47B555JFUlxW3J554Quecc46cTqfmzZunXbt2pbqkhHr"
                "ggQdGfG7nnntuqsuK21tvvaWGhgZNnTpVDodD//qv/xr2umEYWr16tcrKyjR+/"
                "HgtWLBAH330UWqKjcNY97l06dIRn299fX1qio3RmjVr9M1vflMFBQUqKSnRDTf"
                "coO7u7rA2/"
                "f39ampq0uTJk3XWWWdp8eLF6u3tjen3EVRO8eGHHyoQCOipp57SBx98oMcee0y"
                "bNm3Sj370o1Abv9+vRYsWacaMGdq9e7fWrVunBx54QE8//"
                "XQKKzdvcHBQN910kxobG0/"
                "bbvPmzfJ4PKHHDTfckJwCE2Ss+xwaGtJ1112nwcFBvf322/"
                "rlL3+"
                "p5557TqtXr05ypYn34IMPhn12d911V6pListLL72kFStWqLm5WR0dHbrwwgtVV"
                "1enw4cPp7q0hDrvvPPCPrff/e53qS4pbl988YUuvPBCPfHEExFfX7t2rR5//"
                "HFt2rRJv//973XmmWeqrq5O/"
                "f39Sa40PmPdpyTV19eHfb4vvPBCEiuM344dO9TU1KSdO3dq69atOn78uBYtWqQ"
                "vvvgi1Oaee+"
                "5Ra2urXn75Ze3YsUOHDh3SjTfeGNsvNDCmtWvXGhUVFaHnTz75pDFp0iRjYGAg"
                "dO3ee+81Zs+enYry4rZ582bD5XJFfE2S8corryS1HquMdp+/"
                "+c1vjJycHMPr9Yaubdy40SgsLAz7jNPNjBkzjMceeyzVZSRUTU2N0dTUFHo+"
                "NDRkTJ061VizZk0Kq0qs5uZm48ILL0x1GZY69d+VQCBguN1uY926daFrx44dM/"
                "Lz840XXnghBRUmRqR/"
                "P2+77Tbj+uuvT0k9Vjl8+LAhydixY4dhGMOf3bhx44yXX3451OYPf/"
                "iDIclob283/f70qETB5/"
                "OpqKgo9Ly9vV1XXnml8vLyQtfq6urU3d2tzz77LBUlWqqpqUlTpkxRTU2Nnn32"
                "2TGP5E437e3tOv/881VaWhq6VldXJ7/"
                "frw8++"
                "CCFlcXvkUce0eTJk3XRRRdp3bp1aT2cNTg4qN27d2vBggWhazk5OVqwYIHa29t"
                "TWFniffTRR5o6dapmzpypW265Rfv37091SZbq6emR1+sN+2xdLpfmzZuXcZ+"
                "tJG3fvl0lJSWaPXu2GhsbdeTIkVSXFBefzydJoe/J3bt36/"
                "jx42Gf57nnnqvp06fH9Hmm/aGEVtu7d682bNigRx99NHTN6/"
                "WqoqIirF3wS87r9WrSpElJrdFKDz74oObPn68JEybojTfe0Pe+9z19/"
                "vnn+v73v5/q0hLG6/WGhRQp/PNMV9///"
                "vc1d+5cFRUV6e2339aqVavk8Xi0fv36VJcWkz/"
                "96U8aGhqK+Fl9+"
                "OGHKaoq8ebNm6fnnntOs2fPlsfjUUtLi6644gp1dnaqoKAg1eVZIvj3LNJnm85"
                "/ByOpr6/XjTfeqIqKCu3bt08/"
                "+tGPdO2116q9vV25ubmpLs+0QCCgu+++W5dddpmqqqokDX+eeXl5I+"
                "YExvp5Zk2Pyn333RdxYujJj1P/"
                "sTt48KDq6+t10003afny5Smq3JxY7vN0fvzjH+uyyy7TRRddpHvvvVc//"
                "OEPtW7dOgvvIDqJvs90Yea+V6xYoauuukoXXHCB7rjjDv30pz/"
                "Vhg0bNDAwkOK7wOlce+21uummm3TBBReorq5Ov/nNb3Ts2DH9y7/"
                "8S6pLQwJ861vf0l/91V/p/"
                "PPP1w033KDXXntN77zzjrZv357q0mLS1NSkzs5OSxdZZE2PysqVK7V06dLTtpk"
                "5c2boz4cOHdLVV1+tSy+9dMQkWbfbPWL2cvC52+1OTMExMnufZs2bN0//+I//"
                "qIGBgZSeWZHI+3S73SNWjtjl8zxVPPc9b948nThxQh9//"
                "LFmz55tQXXWmjJlinJzcyP+3bPb55RIEydO1Ne//"
                "nXt3bs31aVYJvj59fb2qqysLHS9t7dXc+bMSVFVyTFz5kxNmTJFe/"
                "fu1TXXXJPqcky588479dprr+mtt97StGnTQtfdbrcGBwd17NixsF6VWP+"
                "uZk1QKS4uVnFxcVRtDx48qKuvvlrV1dXavHmzcnLCO55qa2t1//336/"
                "jx4xo3bpwkaevWrZo9e3bKh33M3Gcs9uzZo0mTJqX8YK1E3mdtba0eeughHT58"
                "WCUlJZKGP8/"
                "CwkJVVlYm5HckSjz3vWfPHuXk5ITuMd3k5eWpurpa27ZtC608CwQC2rZtm+"
                "68887UFmehzz//XPv27dOtt96a6lIsU1FRIbfbrW3btoWCid/v1+9///"
                "sxVyWmu08++"
                "URHjhwJC2h2ZxiG7rrrLr3yyivavn37iKkQ1dXVGjdunLZt26bFixdLkrq7u7V"
                "//"
                "37V1tbG9Atxkk8++cT42te+"
                "ZlxzzTXGJ598Yng8ntAj6NixY0Zpaalx6623Gp2dncaLL75oTJgwwXjqqadSWL"
                "l5f/zjH413333XaGlpMc466yzj3XffNd59912jr6/PMAzD+Ld/+zfjmWeeMd5/"
                "/33jo48+"
                "Mp588kljwoQJxurVq1NcuTlj3eeJEyeMqqoqY9GiRcaePXuMtrY2o7i42Fi1al"
                "WKK4/d22+/"
                "bTz22GPGnj17jH379hlbtmwxiouLje985zupLi0uL774opGfn28899xzRldXl3"
                "H77bcbEydODFuxle5WrlxpbN++3ejp6TH+8z//01iwYIExZcoU4/"
                "Dhw6kuLS59fX2hv3uSjPXr1xvvvvuu8cc//"
                "tEwDMN45JFHjIkTJxqvvvqq8d577xnXX3+9UVFRYXz55Zcprtyc091nX1+"
                "f8fd///dGe3u70dPTY/zHf/yHMXfuXOMv/uIvjP7+/"
                "lSXHrXGxkbD5XIZ27dvD/uO/POf/xxqc8cddxjTp0833nzzTeO//uu/"
                "jNraWqO2tjam30dQOcXmzZsNSREfJ/vv//5v4/LLLzfy8/"
                "ONs88+23jkkUdSVHHsbrvttoj3+dvf/tYwDMN4/"
                "fXXjTlz5hhnnXWWceaZZxoXXnihsWnTJmNoaCi1hZs01n0ahmF8/"
                "PHHxrXXXmuMHz/emDJlirFy5Urj+PHjqSs6Trt37zbmzZtnuFwuw+l0Gt/"
                "4xjeMhx9+OK3+"
                "MRzNhg0bjOnTpxt5eXlGTU2NsXPnzlSXlFA333yzUVZWZuTl5Rlnn322cfPNNx"
                "t79+5NdVlx++1vfxvx7+Ftt91mGMbwEuUf//"
                "jHRmlpqZGfn29cc801Rnd3d2qLjsHp7vPPf/"
                "6zsWjRIqO4uNgYN26cMWPGDGP58uVpF7RH+"
                "47cvHlzqM2XX35pfO973zMmTZpkTJgwwfjrv/7rsP/hN8Px/"
                "78UAADAdrJm1Q8AAEg/"
                "BBUAAGBbBBUAAGBbBBUAAGBbBBUAAGBbBBUAAGBbBBUAAGBbBBUAAGBbBBUAAG"
                "BbBBUAAGBbBBUAAGBbBBUAAGBb/weK5rp9q/kBQgAAAABJRU5ErkJggg==",
            "text/plain" : ["<Figure size 640x480 with 1 Axes>"]
          },
          "metadata" : {},
          "output_type" : "display_data"
        }
      ],
      "source" : ["plt.scatter(x, y)"]
    },
    {
      "cell_type" : "code",
      "execution_count" : 104,
      "id" : "8b11fd68-e290-4c1d-a787-bd09256d46a7",
      "metadata" : {},
      "outputs" : [],
      "source" : ["X_train, X_test, y_train, y_test = train_test_split(X, y, "
                  "test_size=8, shuffle=False)"]
    },
    {
      "cell_type" : "code",
      "execution_count" : 105,
      "id" : "8c0386bc-ab52-4498-ac9b-7e8756178be9",
      "metadata" : {},
      "outputs" : [ {
        "data" : {
          "text/plain" : [
            "(array([-20, -19, -18, -17, -16, -15, -14, -13, -12, -11, -10,  "
            "-9,  -8,\n",
            "         -7,  -6,  -5,  -4,  -3,  -2,  -1,   0,   1,   2,   3,   "
            "4,   5,\n",
            "          6,   7,   8,   9,  10,  11]),\n",
            " array([-61.49202097, -56.91852177, -58.09095261, -52.89172395,\n",
            "        -46.07053046, -43.03706911, -47.7441469 , -43.92757122,\n",
            "        -42.48532797, -35.59190156, -36.70123789, -29.43166776,\n",
            "        -24.50855952, -25.21512717, -18.23745098, -16.09137183,\n",
            "        -18.76018118, -10.41145912, -10.40747553,  -5.84898803,\n",
            "         -4.16474918,   2.93137918,   3.40453718,   3.56867738,\n",
            "         10.44649018,  15.80314765,  14.06363532,  16.21957884,\n",
            "         20.87971258,  29.3638365 ,  32.75995422,  "
            "32.72383676]),\n",
            " (32,))"
          ]
        },
        "execution_count" : 105,
        "metadata" : {},
        "output_type" : "execute_result"
      } ],
      "source" : ["X_train.flatten(), y_train, y_train.shape"]
    },
    {
      "cell_type" : "code",
      "execution_count" : 106,
      "id" : "b5500992-ed66-4798-bb3b-c53fae6f5deb",
      "metadata" : {},
      "outputs" : [ {
        "data" : {
          "text/plain" : [
            "(array([12, 13, 14, 15, 16, 17, 18, 19]),\n",
            " array([38.02834109, 40.45750871, 38.77994041, 38.92217009, "
            "47.53410903,\n",
            "        49.57840762, 50.61564763, 52.25054505]),\n", " (8,))"
          ]
        },
        "execution_count" : 106,
        "metadata" : {},
        "output_type" : "execute_result"
      } ],
      "source" : ["X_test.flatten(), y_test, y_test.shape"]
    },
    {
      "cell_type" : "markdown",
      "id" : "4bb5b590-729c-4d2f-8c60-1a8e4bc4aa76",
      "metadata" : {},
      "source" : ["## Model"]
    },
    {
      "cell_type" : "code",
      "execution_count" : 108,
      "id" : "82d7d951-339c-4cd5-b2a1-c05bb75a74ee",
      "metadata" : {},
      "outputs" : [ {
        "data" : {
          "text/html" : [
            "<style>#sk-container-id-6 {\n",
            "  /* Definition of color scheme common for light and dark mode "
            "*/\n",
            "  --sklearn-color-text: #000;\n",
            "  --sklearn-color-text-muted: #666;\n",
            "  --sklearn-color-line: gray;\n",
            "  /* Definition of color scheme for unfitted estimators */\n",
            "  --sklearn-color-unfitted-level-0: #fff5e6;\n",
            "  --sklearn-color-unfitted-level-1: #f6e4d2;\n",
            "  --sklearn-color-unfitted-level-2: #ffe0b3;\n",
            "  --sklearn-color-unfitted-level-3: chocolate;\n",
            "  /* Definition of color scheme for fitted estimators */\n",
            "  --sklearn-color-fitted-level-0: #f0f8ff;\n",
            "  --sklearn-color-fitted-level-1: #d4ebff;\n",
            "  --sklearn-color-fitted-level-2: #b3dbfd;\n",
            "  --sklearn-color-fitted-level-3: cornflowerblue;\n",
            "\n",
            "  /* Specific color for light theme */\n",
            "  --sklearn-color-text-on-default-background: "
            "var(--sg-text-color, var(--theme-code-foreground, "
            "var(--jp-content-font-color1, black)));\n",
            "  --sklearn-color-background: var(--sg-background-color, "
            "var(--theme-background, var(--jp-layout-color0, white)));\n",
            "  --sklearn-color-border-box: var(--sg-text-color, "
            "var(--theme-code-foreground, var(--jp-content-font-color1, "
            "black)));\n",
            "  --sklearn-color-icon: #696969;\n",
            "\n",
            "  @media (prefers-color-scheme: dark) {\n",
            "    /* Redefinition of color scheme for dark theme */\n",
            "    --sklearn-color-text-on-default-background: "
            "var(--sg-text-color, var(--theme-code-foreground, "
            "var(--jp-content-font-color1, white)));\n",
            "    --sklearn-color-background: var(--sg-background-color, "
            "var(--theme-background, var(--jp-layout-color0, #111)));\n",
            "    --sklearn-color-border-box: var(--sg-text-color, "
            "var(--theme-code-foreground, var(--jp-content-font-color1, "
            "white)));\n",
            "    --sklearn-color-icon: #878787;\n",
            "  }\n",
            "}\n",
            "\n",
            "#sk-container-id-6 {\n",
            "  color: var(--sklearn-color-text);\n",
            "}\n",
            "\n",
            "#sk-container-id-6 pre {\n",
            "  padding: 0;\n",
            "}\n",
            "\n",
            "#sk-container-id-6 input.sk-hidden--visually {\n",
            "  border: 0;\n",
            "  clip: rect(1px 1px 1px 1px);\n",
            "  clip: rect(1px, 1px, 1px, 1px);\n",
            "  height: 1px;\n",
            "  margin: -1px;\n",
            "  overflow: hidden;\n",
            "  padding: 0;\n",
            "  position: absolute;\n",
            "  width: 1px;\n",
            "}\n",
            "\n",
            "#sk-container-id-6 div.sk-dashed-wrapped {\n",
            "  border: 1px dashed var(--sklearn-color-line);\n",
            "  margin: 0 0.4em 0.5em 0.4em;\n",
            "  box-sizing: border-box;\n",
            "  padding-bottom: 0.4em;\n",
            "  background-color: var(--sklearn-color-background);\n",
            "}\n",
            "\n",
            "#sk-container-id-6 div.sk-container {\n",
            "  /* jupyter's `normalize.less` sets `[hidden] { display: none; "
            "}`\n",
            "     but bootstrap.min.css set `[hidden] { display: none "
            "!important; }`\n",
            "     so we also need the `!important` here to be able to override "
            "the\n",
            "     default hidden behavior on the sphinx rendered "
            "scikit-learn.org.\n",
            "     See: "
            "https://github.com/scikit-learn/scikit-learn/issues/21755 */\n",
            "  display: inline-block !important;\n",
            "  position: relative;\n",
            "}\n",
            "\n",
            "#sk-container-id-6 div.sk-text-repr-fallback {\n",
            "  display: none;\n",
            "}\n",
            "\n",
            "div.sk-parallel-item,\n",
            "div.sk-serial,\n",
            "div.sk-item {\n",
            "  /* draw centered vertical line to link estimators */\n",
            "  background-image: "
            "linear-gradient(var(--sklearn-color-text-on-default-background), "
            "var(--sklearn-color-text-on-default-background));\n",
            "  background-size: 2px 100%;\n",
            "  background-repeat: no-repeat;\n",
            "  background-position: center center;\n",
            "}\n",
            "\n",
            "/* Parallel-specific style estimator block */\n",
            "\n",
            "#sk-container-id-6 div.sk-parallel-item::after {\n",
            "  content: \"\";\n",
            "  width: 100%;\n",
            "  border-bottom: 2px solid "
            "var(--sklearn-color-text-on-default-background);\n",
            "  flex-grow: 1;\n",
            "}\n",
            "\n",
            "#sk-container-id-6 div.sk-parallel {\n",
            "  display: flex;\n",
            "  align-items: stretch;\n",
            "  justify-content: center;\n",
            "  background-color: var(--sklearn-color-background);\n",
            "  position: relative;\n",
            "}\n",
            "\n",
            "#sk-container-id-6 div.sk-parallel-item {\n",
            "  display: flex;\n",
            "  flex-direction: column;\n",
            "}\n",
            "\n",
            "#sk-container-id-6 div.sk-parallel-item:first-child::after {\n",
            "  align-self: flex-end;\n",
            "  width: 50%;\n",
            "}\n",
            "\n",
            "#sk-container-id-6 div.sk-parallel-item:last-child::after {\n",
            "  align-self: flex-start;\n",
            "  width: 50%;\n",
            "}\n",
            "\n",
            "#sk-container-id-6 div.sk-parallel-item:only-child::after {\n",
            "  width: 0;\n",
            "}\n",
            "\n",
            "/* Serial-specific style estimator block */\n",
            "\n",
            "#sk-container-id-6 div.sk-serial {\n",
            "  display: flex;\n",
            "  flex-direction: column;\n",
            "  align-items: center;\n",
            "  background-color: var(--sklearn-color-background);\n",
            "  padding-right: 1em;\n",
            "  padding-left: 1em;\n",
            "}\n",
            "\n",
            "\n",
            "/* Toggleable style: style used for "
            "estimator/Pipeline/ColumnTransformer box that is\n",
            "clickable and can be expanded/collapsed.\n",
            "- Pipeline and ColumnTransformer use this feature and define the "
            "default style\n",
            "- Estimators will overwrite some part of the style using the "
            "`sk-estimator` class\n",
            "*/\n",
            "\n",
            "/* Pipeline and ColumnTransformer style (default) */\n",
            "\n",
            "#sk-container-id-6 div.sk-toggleable {\n",
            "  /* Default theme specific background. It is overwritten whether "
            "we have a\n",
            "  specific estimator or a Pipeline/ColumnTransformer */\n",
            "  background-color: var(--sklearn-color-background);\n",
            "}\n",
            "\n",
            "/* Toggleable label */\n",
            "#sk-container-id-6 label.sk-toggleable__label {\n",
            "  cursor: pointer;\n",
            "  display: flex;\n",
            "  width: 100%;\n",
            "  margin-bottom: 0;\n",
            "  padding: 0.5em;\n",
            "  box-sizing: border-box;\n",
            "  text-align: center;\n",
            "  align-items: start;\n",
            "  justify-content: space-between;\n",
            "  gap: 0.5em;\n",
            "}\n",
            "\n",
            "#sk-container-id-6 label.sk-toggleable__label .caption {\n",
            "  font-size: 0.6rem;\n",
            "  font-weight: lighter;\n",
            "  color: var(--sklearn-color-text-muted);\n",
            "}\n",
            "\n",
            "#sk-container-id-6 label.sk-toggleable__label-arrow:before {\n",
            "  /* Arrow on the left of the label */\n",
            "  content: \"▸\";\n",
            "  float: left;\n",
            "  margin-right: 0.25em;\n",
            "  color: var(--sklearn-color-icon);\n",
            "}\n",
            "\n",
            "#sk-container-id-6 label.sk-toggleable__label-arrow:hover:before "
            "{\n",
            "  color: var(--sklearn-color-text);\n",
            "}\n",
            "\n",
            "/* Toggleable content - dropdown */\n",
            "\n",
            "#sk-container-id-6 div.sk-toggleable__content {\n",
            "  max-height: 0;\n",
            "  max-width: 0;\n",
            "  overflow: hidden;\n",
            "  text-align: left;\n",
            "  /* unfitted */\n",
            "  background-color: var(--sklearn-color-unfitted-level-0);\n",
            "}\n",
            "\n",
            "#sk-container-id-6 div.sk-toggleable__content.fitted {\n",
            "  /* fitted */\n",
            "  background-color: var(--sklearn-color-fitted-level-0);\n",
            "}\n",
            "\n",
            "#sk-container-id-6 div.sk-toggleable__content pre {\n",
            "  margin: 0.2em;\n",
            "  border-radius: 0.25em;\n",
            "  color: var(--sklearn-color-text);\n",
            "  /* unfitted */\n",
            "  background-color: var(--sklearn-color-unfitted-level-0);\n",
            "}\n",
            "\n",
            "#sk-container-id-6 div.sk-toggleable__content.fitted pre {\n",
            "  /* unfitted */\n",
            "  background-color: var(--sklearn-color-fitted-level-0);\n",
            "}\n",
            "\n",
            "#sk-container-id-6 "
            "input.sk-toggleable__control:checked~div.sk-toggleable__content "
            "{\n",
            "  /* Expand drop-down */\n",
            "  max-height: 200px;\n",
            "  max-width: 100%;\n",
            "  overflow: auto;\n",
            "}\n",
            "\n",
            "#sk-container-id-6 "
            "input.sk-toggleable__control:checked~label.sk-toggleable__label-"
            "arrow:before {\n",
            "  content: \"▾\";\n",
            "}\n",
            "\n",
            "/* Pipeline/ColumnTransformer-specific style */\n",
            "\n",
            "#sk-container-id-6 div.sk-label "
            "input.sk-toggleable__control:checked~label.sk-toggleable__label "
            "{\n",
            "  color: var(--sklearn-color-text);\n",
            "  background-color: var(--sklearn-color-unfitted-level-2);\n",
            "}\n",
            "\n",
            "#sk-container-id-6 div.sk-label.fitted "
            "input.sk-toggleable__control:checked~label.sk-toggleable__label "
            "{\n",
            "  background-color: var(--sklearn-color-fitted-level-2);\n",
            "}\n",
            "\n",
            "/* Estimator-specific style */\n",
            "\n",
            "/* Colorize estimator box */\n",
            "#sk-container-id-6 div.sk-estimator "
            "input.sk-toggleable__control:checked~label.sk-toggleable__label "
            "{\n",
            "  /* unfitted */\n",
            "  background-color: var(--sklearn-color-unfitted-level-2);\n",
            "}\n",
            "\n",
            "#sk-container-id-6 div.sk-estimator.fitted "
            "input.sk-toggleable__control:checked~label.sk-toggleable__label "
            "{\n",
            "  /* fitted */\n",
            "  background-color: var(--sklearn-color-fitted-level-2);\n",
            "}\n",
            "\n",
            "#sk-container-id-6 div.sk-label label.sk-toggleable__label,\n",
            "#sk-container-id-6 div.sk-label label {\n",
            "  /* The background is the default theme color */\n",
            "  color: var(--sklearn-color-text-on-default-background);\n",
            "}\n",
            "\n",
            "/* On hover, darken the color of the background */\n",
            "#sk-container-id-6 div.sk-label:hover label.sk-toggleable__label "
            "{\n",
            "  color: var(--sklearn-color-text);\n",
            "  background-color: var(--sklearn-color-unfitted-level-2);\n",
            "}\n",
            "\n",
            "/* Label box, darken color on hover, fitted */\n",
            "#sk-container-id-6 div.sk-label.fitted:hover "
            "label.sk-toggleable__label.fitted {\n",
            "  color: var(--sklearn-color-text);\n",
            "  background-color: var(--sklearn-color-fitted-level-2);\n",
            "}\n",
            "\n",
            "/* Estimator label */\n",
            "\n",
            "#sk-container-id-6 div.sk-label label {\n",
            "  font-family: monospace;\n",
            "  font-weight: bold;\n",
            "  display: inline-block;\n",
            "  line-height: 1.2em;\n",
            "}\n",
            "\n",
            "#sk-container-id-6 div.sk-label-container {\n",
            "  text-align: center;\n",
            "}\n",
            "\n",
            "/* Estimator-specific */\n",
            "#sk-container-id-6 div.sk-estimator {\n",
            "  font-family: monospace;\n",
            "  border: 1px dotted var(--sklearn-color-border-box);\n",
            "  border-radius: 0.25em;\n",
            "  box-sizing: border-box;\n",
            "  margin-bottom: 0.5em;\n",
            "  /* unfitted */\n",
            "  background-color: var(--sklearn-color-unfitted-level-0);\n",
            "}\n",
            "\n",
            "#sk-container-id-6 div.sk-estimator.fitted {\n",
            "  /* fitted */\n",
            "  background-color: var(--sklearn-color-fitted-level-0);\n",
            "}\n",
            "\n",
            "/* on hover */\n",
            "#sk-container-id-6 div.sk-estimator:hover {\n",
            "  /* unfitted */\n",
            "  background-color: var(--sklearn-color-unfitted-level-2);\n",
            "}\n",
            "\n",
            "#sk-container-id-6 div.sk-estimator.fitted:hover {\n",
            "  /* fitted */\n",
            "  background-color: var(--sklearn-color-fitted-level-2);\n",
            "}\n",
            "\n",
            "/* Specification for estimator info (e.g. \"i\" and \"?\") */\n",
            "\n",
            "/* Common style for \"i\" and \"?\" */\n",
            "\n",
            ".sk-estimator-doc-link,\n",
            "a:link.sk-estimator-doc-link,\n",
            "a:visited.sk-estimator-doc-link {\n",
            "  float: right;\n",
            "  font-size: smaller;\n",
            "  line-height: 1em;\n",
            "  font-family: monospace;\n",
            "  background-color: var(--sklearn-color-background);\n",
            "  border-radius: 1em;\n",
            "  height: 1em;\n",
            "  width: 1em;\n",
            "  text-decoration: none !important;\n",
            "  margin-left: 0.5em;\n",
            "  text-align: center;\n",
            "  /* unfitted */\n",
            "  border: var(--sklearn-color-unfitted-level-1) 1pt solid;\n",
            "  color: var(--sklearn-color-unfitted-level-1);\n",
            "}\n",
            "\n",
            ".sk-estimator-doc-link.fitted,\n",
            "a:link.sk-estimator-doc-link.fitted,\n",
            "a:visited.sk-estimator-doc-link.fitted {\n",
            "  /* fitted */\n",
            "  border: var(--sklearn-color-fitted-level-1) 1pt solid;\n",
            "  color: var(--sklearn-color-fitted-level-1);\n",
            "}\n",
            "\n",
            "/* On hover */\n",
            "div.sk-estimator:hover .sk-estimator-doc-link:hover,\n",
            ".sk-estimator-doc-link:hover,\n",
            "div.sk-label-container:hover .sk-estimator-doc-link:hover,\n",
            ".sk-estimator-doc-link:hover {\n",
            "  /* unfitted */\n",
            "  background-color: var(--sklearn-color-unfitted-level-3);\n",
            "  color: var(--sklearn-color-background);\n",
            "  text-decoration: none;\n",
            "}\n",
            "\n",
            "div.sk-estimator.fitted:hover "
            ".sk-estimator-doc-link.fitted:hover,\n",
            ".sk-estimator-doc-link.fitted:hover,\n",
            "div.sk-label-container:hover "
            ".sk-estimator-doc-link.fitted:hover,\n",
            ".sk-estimator-doc-link.fitted:hover {\n",
            "  /* fitted */\n",
            "  background-color: var(--sklearn-color-fitted-level-3);\n",
            "  color: var(--sklearn-color-background);\n",
            "  text-decoration: none;\n",
            "}\n",
            "\n",
            "/* Span, style for the box shown on hovering the info icon */\n",
            ".sk-estimator-doc-link span {\n",
            "  display: none;\n",
            "  z-index: 9999;\n",
            "  position: relative;\n",
            "  font-weight: normal;\n",
            "  right: .2ex;\n",
            "  padding: .5ex;\n",
            "  margin: .5ex;\n",
            "  width: min-content;\n",
            "  min-width: 20ex;\n",
            "  max-width: 50ex;\n",
            "  color: var(--sklearn-color-text);\n",
            "  box-shadow: 2pt 2pt 4pt #999;\n",
            "  /* unfitted */\n",
            "  background: var(--sklearn-color-unfitted-level-0);\n",
            "  border: .5pt solid var(--sklearn-color-unfitted-level-3);\n",
            "}\n",
            "\n",
            ".sk-estimator-doc-link.fitted span {\n",
            "  /* fitted */\n",
            "  background: var(--sklearn-color-fitted-level-0);\n",
            "  border: var(--sklearn-color-fitted-level-3);\n",
            "}\n",
            "\n",
            ".sk-estimator-doc-link:hover span {\n",
            "  display: block;\n",
            "}\n",
            "\n",
            "/* \"?\"-specific style due to the `<a>` HTML tag */\n",
            "\n",
            "#sk-container-id-6 a.estimator_doc_link {\n",
            "  float: right;\n",
            "  font-size: 1rem;\n",
            "  line-height: 1em;\n",
            "  font-family: monospace;\n",
            "  background-color: var(--sklearn-color-background);\n",
            "  border-radius: 1rem;\n",
            "  height: 1rem;\n",
            "  width: 1rem;\n",
            "  text-decoration: none;\n",
            "  /* unfitted */\n",
            "  color: var(--sklearn-color-unfitted-level-1);\n",
            "  border: var(--sklearn-color-unfitted-level-1) 1pt solid;\n",
            "}\n",
            "\n",
            "#sk-container-id-6 a.estimator_doc_link.fitted {\n",
            "  /* fitted */\n",
            "  border: var(--sklearn-color-fitted-level-1) 1pt solid;\n",
            "  color: var(--sklearn-color-fitted-level-1);\n",
            "}\n",
            "\n",
            "/* On hover */\n",
            "#sk-container-id-6 a.estimator_doc_link:hover {\n",
            "  /* unfitted */\n",
            "  background-color: var(--sklearn-color-unfitted-level-3);\n",
            "  color: var(--sklearn-color-background);\n",
            "  text-decoration: none;\n",
            "}\n",
            "\n",
            "#sk-container-id-6 a.estimator_doc_link.fitted:hover {\n",
            "  /* fitted */\n",
            "  background-color: var(--sklearn-color-fitted-level-3);\n",
            "}\n",
            "</style><div id=\"sk-container-id-6\" "
            "class=\"sk-top-container\"><div "
            "class=\"sk-text-repr-fallback\"><pre>LinearRegression()</"
            "pre><b>In a Jupyter environment, please rerun this cell to show "
            "the HTML representation or trust the notebook. <br />On GitHub, "
            "the HTML representation is unable to render, please try loading "
            "this page with nbviewer.org.</b></div><div class=\"sk-container\" "
            "hidden><div class=\"sk-item\"><div class=\"sk-estimator fitted "
            "sk-toggleable\"><input class=\"sk-toggleable__control "
            "sk-hidden--visually\" id=\"sk-estimator-id-6\" type=\"checkbox\" "
            "checked><label for=\"sk-estimator-id-6\" "
            "class=\"sk-toggleable__label fitted "
            "sk-toggleable__label-arrow\"><div><div>LinearRegression</div></"
            "div><div><a class=\"sk-estimator-doc-link fitted\" "
            "rel=\"noreferrer\" target=\"_blank\" "
            "href=\"https://scikit-learn.org/1.6/modules/generated/"
            "sklearn.linear_model.LinearRegression.html\">?<span>Documentation "
            "for LinearRegression</span></a><span "
            "class=\"sk-estimator-doc-link "
            "fitted\">i<span>Fitted</span></span></div></label><div "
            "class=\"sk-toggleable__content "
            "fitted\"><pre>LinearRegression()</pre></div> "
            "</div></div></div></div>"
          ],
          "text/plain" : ["LinearRegression()"]
        },
        "execution_count" : 108,
        "metadata" : {},
        "output_type" : "execute_result"
      } ],
      "source" : [ "m2 = LinearRegression()\n", "m2.fit(X_train, y_train)" ]
    },
    {
      "cell_type" : "code",
      "execution_count" : 109,
      "id" : "7beb0943-bae4-4838-9067-8f1fc148507a",
      "metadata" : {},
      "outputs" : [ {
        "data" : {
          "text/plain" :
              ["(array([3.0383187]), np.float64(-2.1357923817289937))"]
        },
        "execution_count" : 109,
        "metadata" : {},
        "output_type" : "execute_result"
      } ],
      "source" : ["m2.coef_, m2.intercept_"]
    },
    {
      "cell_type" : "markdown",
      "id" : "abce7e98-2cd1-4c35-b743-ff51f6f35ece",
      "metadata" : {},
      "source" : ["## Predict"]
    },
    {
      "cell_type" : "code",
      "execution_count" : 110,
      "id" : "1e0b5f8f-4937-455c-9bd3-d7f98b89fe26",
      "metadata" : {},
      "outputs" : [ {
        "data" : {
          "text/plain" : [
            "array([34.32403201, 37.36235071, 40.40066941, 43.43898811, "
            "46.47730681,\n",
            "       49.51562551, 52.55394421, 55.59226291])"
          ]
        },
        "execution_count" : 110,
        "metadata" : {},
        "output_type" : "execute_result"
      } ],
      "source" : [ "y_pred = m2.predict(X_test)\n", "y_pred" ]
    },
    {
      "cell_type" : "markdown",
      "id" : "f3c8ae5b-fffc-4884-99cf-fe066d751048",
      "metadata" : {},
      "source" : ["## Evalute"]
    },
    {
      "cell_type" : "code",
      "execution_count" : 111,
      "id" : "9c79f300-5f30-4bfa-962a-a1eb35f2dedb",
      "metadata" : {},
      "outputs" : [ {
        "data" : {"text/plain" : ["7.796895082536803"]},
        "execution_count" : 111,
        "metadata" : {},
        "output_type" : "execute_result"
      } ],
      "source" : ["mean_squared_error(y_test, y_pred)"]
    },
    {
      "cell_type" : "code",
      "execution_count" : 112,
      "id" : "7efe33b1-1782-46c3-93a6-a1bfdf704633",
      "metadata" : {},
      "outputs" : [ {
        "data" : {"text/plain" : ["0.7549302544549135"]},
        "execution_count" : 112,
        "metadata" : {},
        "output_type" : "execute_result"
      } ],
      "source" : ["r2_score(y_test, y_pred)"]
    },
    {
      "cell_type" : "code",
      "execution_count" : null,
      "id" : "fca3f9fb-b850-4a00-a0bf-37dc9f323553",
      "metadata" : {},
      "outputs" : [],
      "source" : []
    },
    {
      "cell_type" : "code",
      "execution_count" : null,
      "id" : "86d5e7b9-9539-4c49-af62-5727a5d57020",
      "metadata" : {},
      "outputs" : [],
      "source" : []
    }
  ],
  "metadata" : {
    "kernelspec" : {
      "display_name" : "Python 3 (ipykernel)",
      "language" : "python",
      "name" : "python3"
    },
    "language_info" : {
      "codemirror_mode" : {"name" : "ipython", "version" : 3},
      "file_extension" : ".py",
      "mimetype" : "text/x-python",
      "name" : "python",
      "nbconvert_exporter" : "python",
      "pygments_lexer" : "ipython3",
      "version" : "3.12.3"
    }
  },
  "nbformat" : 4,
  "nbformat_minor" : 5
}
